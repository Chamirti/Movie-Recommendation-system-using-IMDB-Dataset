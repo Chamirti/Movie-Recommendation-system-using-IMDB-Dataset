{
 "cells": [
  {
   "cell_type": "code",
   "execution_count": 1,
   "id": "4d11213e-727f-4d55-80e3-579c818284e7",
   "metadata": {},
   "outputs": [],
   "source": [
    "import numpy as np\n",
    "import pandas as pd\n",
    "import seaborn as sns\n",
    "from sklearn.metrics.pairwise import cosine_similarity"
   ]
  },
  {
   "cell_type": "code",
   "execution_count": 2,
   "id": "a93ba731-5ed5-4101-aaf6-1fcf8bbe1b84",
   "metadata": {},
   "outputs": [],
   "source": [
    "df=pd.read_csv('IMDB.csv')\n",
    "df=df[['index','titleType','startYear','runtimeMinutes','genres','averageRating','title','region','Description']]"
   ]
  },
  {
   "cell_type": "code",
   "execution_count": 3,
   "id": "74fd14da-1bc0-4014-bd2f-af03add809be",
   "metadata": {},
   "outputs": [
    {
     "name": "stderr",
     "output_type": "stream",
     "text": [
      "[nltk_data] Downloading package stopwords to\n",
      "[nltk_data]     C:\\Users\\Senthil\\AppData\\Roaming\\nltk_data...\n",
      "[nltk_data]   Package stopwords is already up-to-date!\n"
     ]
    }
   ],
   "source": [
    "import nltk\n",
    "import re\n",
    "nltk.download('stopwords')\n",
    "stemmer = nltk.SnowballStemmer(\"english\")\n",
    "from nltk.corpus import stopwords\n",
    "import string\n",
    "stopword = set(stopwords.words('english'))"
   ]
  },
  {
   "cell_type": "code",
   "execution_count": 4,
   "id": "bf6ff329-7b76-43fd-8dae-91790c92372c",
   "metadata": {},
   "outputs": [],
   "source": [
    "def clean(text):\n",
    "    text = str(text).lower()\n",
    "    text = re.sub('\\[.*?\\]', '', text)\n",
    "    text = re.sub('https?://\\S+|www\\.\\S+', '', text)\n",
    "    text = re.sub('<.*?>+', '', text)\n",
    "    text = re.sub('[%s]' % re.escape(string.punctuation), '', text)\n",
    "    text = re.sub('\\n', '', text)\n",
    "    text = re.sub('\\w*\\d\\w*', '', text)\n",
    "    text = [word for word in text.split(' ') if word not in stopword]\n",
    "    text=\" \".join(text)\n",
    "    text = [stemmer.stem(word) for word in text.split(' ')]\n",
    "    text=\" \".join(text)\n",
    "    return text"
   ]
  },
  {
   "cell_type": "code",
   "execution_count": 5,
   "id": "2cf694c1-7018-4f32-8a4e-3a37d5eb2f33",
   "metadata": {},
   "outputs": [],
   "source": [
    "df[\"Description\"]=df[\"Description\"].apply(clean)"
   ]
  },
  {
   "cell_type": "code",
   "execution_count": 6,
   "id": "3d906d76-8bd5-4d55-a6ec-3bff047970b1",
   "metadata": {},
   "outputs": [
    {
     "data": {
      "text/html": [
       "<div>\n",
       "<style scoped>\n",
       "    .dataframe tbody tr th:only-of-type {\n",
       "        vertical-align: middle;\n",
       "    }\n",
       "\n",
       "    .dataframe tbody tr th {\n",
       "        vertical-align: top;\n",
       "    }\n",
       "\n",
       "    .dataframe thead th {\n",
       "        text-align: right;\n",
       "    }\n",
       "</style>\n",
       "<table border=\"1\" class=\"dataframe\">\n",
       "  <thead>\n",
       "    <tr style=\"text-align: right;\">\n",
       "      <th></th>\n",
       "      <th>index</th>\n",
       "      <th>titleType</th>\n",
       "      <th>startYear</th>\n",
       "      <th>runtimeMinutes</th>\n",
       "      <th>genres</th>\n",
       "      <th>averageRating</th>\n",
       "      <th>title</th>\n",
       "      <th>region</th>\n",
       "      <th>Description</th>\n",
       "    </tr>\n",
       "  </thead>\n",
       "  <tbody>\n",
       "    <tr>\n",
       "      <th>0</th>\n",
       "      <td>0</td>\n",
       "      <td>movie</td>\n",
       "      <td>1991</td>\n",
       "      <td>118</td>\n",
       "      <td>Crime,Drama,Thriller</td>\n",
       "      <td>8.6</td>\n",
       "      <td>The Silence of the Lambs</td>\n",
       "      <td>US</td>\n",
       "      <td>jodi foster star claric starl top student fbis...</td>\n",
       "    </tr>\n",
       "    <tr>\n",
       "      <th>1</th>\n",
       "      <td>1</td>\n",
       "      <td>movie</td>\n",
       "      <td>1991</td>\n",
       "      <td>137</td>\n",
       "      <td>Action,Sci-Fi</td>\n",
       "      <td>8.6</td>\n",
       "      <td>Terminator 2: Judgment Day</td>\n",
       "      <td>US</td>\n",
       "      <td>sequel set eleven year termin young john conno...</td>\n",
       "    </tr>\n",
       "    <tr>\n",
       "      <th>2</th>\n",
       "      <td>3</td>\n",
       "      <td>movie</td>\n",
       "      <td>1994</td>\n",
       "      <td>88</td>\n",
       "      <td>Adventure,Animation,Drama</td>\n",
       "      <td>8.5</td>\n",
       "      <td>The Lion King 3D</td>\n",
       "      <td>US</td>\n",
       "      <td>disney anim featur follow adventur young lion ...</td>\n",
       "    </tr>\n",
       "    <tr>\n",
       "      <th>3</th>\n",
       "      <td>4</td>\n",
       "      <td>movie</td>\n",
       "      <td>1994</td>\n",
       "      <td>154</td>\n",
       "      <td>Crime,Drama</td>\n",
       "      <td>8.9</td>\n",
       "      <td>Pulp Fiction</td>\n",
       "      <td>US</td>\n",
       "      <td>vincent vega john travolta jule winnfield samu...</td>\n",
       "    </tr>\n",
       "    <tr>\n",
       "      <th>4</th>\n",
       "      <td>5</td>\n",
       "      <td>movie</td>\n",
       "      <td>1994</td>\n",
       "      <td>142</td>\n",
       "      <td>Drama</td>\n",
       "      <td>9.3</td>\n",
       "      <td>The Shawshank Redemption</td>\n",
       "      <td>US</td>\n",
       "      <td>andi dufresn tim robbin sentenc two consecut l...</td>\n",
       "    </tr>\n",
       "  </tbody>\n",
       "</table>\n",
       "</div>"
      ],
      "text/plain": [
       "   index titleType  startYear runtimeMinutes                     genres  \\\n",
       "0      0     movie       1991            118       Crime,Drama,Thriller   \n",
       "1      1     movie       1991            137              Action,Sci-Fi   \n",
       "2      3     movie       1994             88  Adventure,Animation,Drama   \n",
       "3      4     movie       1994            154                Crime,Drama   \n",
       "4      5     movie       1994            142                      Drama   \n",
       "\n",
       "   averageRating                       title region  \\\n",
       "0            8.6    The Silence of the Lambs     US   \n",
       "1            8.6  Terminator 2: Judgment Day     US   \n",
       "2            8.5            The Lion King 3D     US   \n",
       "3            8.9                Pulp Fiction     US   \n",
       "4            9.3    The Shawshank Redemption     US   \n",
       "\n",
       "                                         Description  \n",
       "0  jodi foster star claric starl top student fbis...  \n",
       "1  sequel set eleven year termin young john conno...  \n",
       "2  disney anim featur follow adventur young lion ...  \n",
       "3  vincent vega john travolta jule winnfield samu...  \n",
       "4  andi dufresn tim robbin sentenc two consecut l...  "
      ]
     },
     "execution_count": 6,
     "metadata": {},
     "output_type": "execute_result"
    }
   ],
   "source": [
    "df=df.dropna(subset=['Description'])\n",
    "df.head()"
   ]
  },
  {
   "cell_type": "code",
   "execution_count": 7,
   "id": "30cfba16-aa62-4467-b0ea-894a1f0584c0",
   "metadata": {},
   "outputs": [],
   "source": [
    "from sklearn.feature_extraction.text import TfidfVectorizer\n",
    "feature=df['Description'].tolist()\n",
    "tfidf_vectorizer=TfidfVectorizer(stop_words='english')\n",
    "tfidf_matrix=tfidf_vectorizer.fit_transform(feature)\n",
    "similarity=cosine_similarity(tfidf_matrix)"
   ]
  },
  {
   "cell_type": "code",
   "execution_count": 8,
   "id": "8bdf5d7e-5b2a-4f58-ae01-ffdd47b207f7",
   "metadata": {},
   "outputs": [],
   "source": [
    "indices=pd.Series(df['index'].tolist(),index=df['title'])"
   ]
  },
  {
   "cell_type": "code",
   "execution_count": 9,
   "id": "a97d228a-c83e-491b-a4c7-6dd4e4fb4719",
   "metadata": {},
   "outputs": [],
   "source": [
    "def movie_recommendation(title,similarity=similarity):\n",
    "    i=indices[title]\n",
    "    similarity_scores=list(enumerate(similarity[i]))\n",
    "    similarity_scores=sorted(similarity_scores,key=lambda x:x[1],reverse=True)\n",
    "    similarity_scores=similarity_scores[1:11]\n",
    "    movieindices=[j[0] for j in similarity_scores]\n",
    "    titles=df['title'].iloc[movieindices]\n",
    "    return titles,similarity_scores"
   ]
  },
  {
   "cell_type": "code",
   "execution_count": 17,
   "id": "92f38603-c1c3-45a3-b0dd-29c1ac040430",
   "metadata": {},
   "outputs": [],
   "source": [
    "titles,similarity_scores=movie_recommendation(\"The Silence of the Lambs\")"
   ]
  },
  {
   "cell_type": "code",
   "execution_count": 18,
   "id": "dfc49aad-65e5-4b04-8cc1-44dfe3238024",
   "metadata": {},
   "outputs": [],
   "source": [
    "sim_scores=[]\n",
    "for i in similarity_scores:\n",
    "    sim_scores.append(i[1])"
   ]
  },
  {
   "cell_type": "code",
   "execution_count": 19,
   "id": "03a47e34-80dc-4ca7-a497-e61b6f5e20bf",
   "metadata": {},
   "outputs": [
    {
     "data": {
      "text/plain": [
       "<Axes: ylabel='title'>"
      ]
     },
     "execution_count": 19,
     "metadata": {},
     "output_type": "execute_result"
    },
    {
     "data": {
      "image/png": "[encoded data removed]",
      "text/plain": [
       "<Figure size 640x480 with 1 Axes>"
      ]
     },
     "metadata": {},
     "output_type": "display_data"
    }
   ],
   "source": [
    "sns.barplot(x=sim_scores,y=titles,orient='h',hue=titles,palette='husl')"
   ]
  }
 ],
 "metadata": {
  "kernelspec": {
   "display_name": "Python 3 (ipykernel)",
   "language": "python",
   "name": "python3"
  },
  "language_info": {
   "codemirror_mode": {
    "name": "ipython",
    "version": 3
   },
   "file_extension": ".py",
   "mimetype": "text/x-python",
   "name": "python",
   "nbconvert_exporter": "python",
   "pygments_lexer": "ipython3",
   "version": "3.11.5"
  }
 },
 "nbformat": 4,
 "nbformat_minor": 5
}
